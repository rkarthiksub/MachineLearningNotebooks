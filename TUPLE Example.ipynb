{
  "nbformat": 4,
  "nbformat_minor": 0,
  "metadata": {
    "colab": {
      "provenance": [],
      "authorship_tag": "ABX9TyOG8chMRr3BEI+pE6rP2tfG",
      "include_colab_link": true
    },
    "kernelspec": {
      "name": "python3",
      "display_name": "Python 3"
    },
    "language_info": {
      "name": "python"
    }
  },
  "cells": [
    {
      "cell_type": "markdown",
      "metadata": {
        "id": "view-in-github",
        "colab_type": "text"
      },
      "source": [
        "<a href=\"https://colab.research.google.com/github/rkarthiksub/MachineLearningNotebooks/blob/master/TUPLE%20Example.ipynb\" target=\"_parent\"><img src=\"https://colab.research.google.com/assets/colab-badge.svg\" alt=\"Open In Colab\"/></a>"
      ]
    },
    {
      "cell_type": "code",
      "execution_count": 1,
      "metadata": {
        "colab": {
          "base_uri": "https://localhost:8080/",
          "height": 143
        },
        "id": "KtZhQsgWgQ3V",
        "outputId": "72759066-1d76-416b-e279-5e2ce997c6cf"
      },
      "outputs": [
        {
          "output_type": "error",
          "ename": "SyntaxError",
          "evalue": "ignored",
          "traceback": [
            "\u001b[0;36m  File \u001b[0;32m\"<ipython-input-1-4814577bd0a8>\"\u001b[0;36m, line \u001b[0;32m18\u001b[0m\n\u001b[0;31m    print(\"Sliced fruits\"sliced_fruits)  # Output: (\"banana\", \"cherry\")\u001b[0m\n\u001b[0m          ^\u001b[0m\n\u001b[0;31mSyntaxError\u001b[0m\u001b[0;31m:\u001b[0m invalid syntax. Perhaps you forgot a comma?\n"
          ]
        }
      ],
      "source": [
        "# Create an empty tuple\n",
        "empty_tuple = ()\n",
        "\n",
        "# Create a tuple with elements\n",
        "fruits = (\"apple\", \"banana\", \"cherry\")\n",
        "\n",
        "# Access individual elements\n",
        "first_fruit = fruits[0]\n",
        "second_fruit = fruits[1]\n",
        "\n",
        "print(first_fruit)  # Output: \"apple\"\n",
        "print(second_fruit) # Output: \"banana\"\n",
        "fruits = (\"apple\", \"banana\", \"cherry\", \"dates\")\n",
        "\n",
        "# Slicing\n",
        "sliced_fruits = fruits[1:3]\n",
        "\n",
        "print(\"Sliced fruits\"sliced_fruits)  # Output: (\"banana\", \"cherry\")\n",
        "\n",
        "fruits = (\"apple\", \"banana\", \"cherry\")\n",
        "\n",
        "# Unpack a tuple into variables\n",
        "fruit1, fruit2, fruit3 = fruits\n",
        "\n",
        "print(fruit1)  # Output: \"apple\"\n",
        "print(fruit2)  # Output: \"banana\"\n",
        "fruits = (\"apple\", \"banana\", \"cherry\")\n",
        "\n",
        "# Get the length of a tuple\n",
        "num_fruits = len(fruits)\n",
        "\n",
        "print(num_fruits)  # Output: 3\n",
        "\n",
        "fruits = (\"apple\", \"banana\", \"cherry\")\n",
        "\n",
        "# Iterate through a tuple\n",
        "for fruit in fruits:\n",
        "    print(fruit)\n",
        "\n",
        "fruits = (\"apple\", \"banana\", \"cherry\")\n",
        "\n",
        "# Check if an element exists in a tuple\n",
        "if \"banana\" in fruits:\n",
        "    print(\"Yes, 'banana' is in the tuple.\")\n",
        "fruits1 = (\"apple\", \"banana\")\n",
        "fruits2 = (\"cherry\", \"dates\")\n",
        "\n",
        "# Concatenate two tuples\n",
        "fruits_combined = fruits1 + fruits2\n",
        "\n",
        "print(\"Combined\",fruits_combined)  # Output: (\"apple\", \"banana\", \"cherry\", \"date\")\n",
        "\n",
        "fruits = (\"apple\", \"banana\", \"cherry\", \"banana\")\n",
        "\n",
        "# Count occurrences of an element\n",
        "count = fruits.count(\"banana\")\n",
        "\n",
        "print(count)  # Output: 2\n",
        "\n",
        "fruits = (\"apple\", \"banana\", \"cherry\")\n",
        "\n",
        "# Find the index of an element\n",
        "index = fruits.index(\"cherry\")\n",
        "\n",
        "print(index)  # Output: 2\n",
        "\n",
        "# Tuple packing\n",
        "my_tuple = 1, 2, 3\n",
        "\n",
        "# Tuple unpacking\n",
        "x, y, z = my_tuple\n",
        "\n",
        "print(x)  # Output: 1\n",
        "print(y)  # Output: 2\n",
        "print(z)  # Output: 3\n",
        "\n",
        "\n",
        "\n"
      ]
    }
  ]
}
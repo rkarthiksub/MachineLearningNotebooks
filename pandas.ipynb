{
  "nbformat": 4,
  "nbformat_minor": 0,
  "metadata": {
    "colab": {
      "provenance": [],
      "authorship_tag": "ABX9TyOTcbAufUvS8aPheHw3v3Ek",
      "include_colab_link": true
    },
    "kernelspec": {
      "name": "python3",
      "display_name": "Python 3"
    },
    "language_info": {
      "name": "python"
    }
  },
  "cells": [
    {
      "cell_type": "markdown",
      "metadata": {
        "id": "view-in-github",
        "colab_type": "text"
      },
      "source": [
        "<a href=\"https://colab.research.google.com/github/rkarthiksub/MachineLearningNotebooks/blob/master/pandas.ipynb\" target=\"_parent\"><img src=\"https://colab.research.google.com/assets/colab-badge.svg\" alt=\"Open In Colab\"/></a>"
      ]
    },
    {
      "cell_type": "code",
      "execution_count": null,
      "metadata": {
        "id": "FfIEjdVLHMKj"
      },
      "outputs": [],
      "source": [
        "import numpy as np\n",
        "import pandas as pd"
      ]
    },
    {
      "cell_type": "markdown",
      "source": [
        "Loading data from numpy to dataframe"
      ],
      "metadata": {
        "id": "MmBCRnmIHUHd"
      }
    },
    {
      "cell_type": "code",
      "source": [
        "my_data = np.array([[10, 3], [10, 3], [20, 2], [30, 1], [40, 3]])\n",
        "\n",
        "# Create a Python list that holds the names of the two columns.\n",
        "my_column_names = ['jersey', 'score']\n",
        "\n",
        "# Create a DataFrame.\n",
        "my_dataframe = pd.DataFrame(data=my_data, columns=my_column_names)\n",
        "\n",
        "# Print the entire DataFrame\n",
        "print(my_dataframe)"
      ],
      "metadata": {
        "colab": {
          "base_uri": "https://localhost:8080/"
        },
        "id": "1wFymVaFHSPW",
        "outputId": "e79009ee-1325-487f-de03-8390a1941798"
      },
      "execution_count": null,
      "outputs": [
        {
          "output_type": "stream",
          "name": "stdout",
          "text": [
            "   jersey  score\n",
            "0      10      3\n",
            "1      10      3\n",
            "2      20      2\n",
            "3      30      1\n",
            "4      40      3\n"
          ]
        }
      ]
    },
    {
      "cell_type": "markdown",
      "source": [
        "**Adding a column in dataframe** Adding +2 to the activity"
      ],
      "metadata": {
        "id": "jFDUMHivHTSH"
      }
    },
    {
      "cell_type": "code",
      "source": [
        "my_dataframe[\"seconds\"] = my_dataframe[\"score\"] +2\n",
        "\n",
        "# Print the entire DataFrame\n",
        "print(my_dataframe)"
      ],
      "metadata": {
        "colab": {
          "base_uri": "https://localhost:8080/"
        },
        "id": "pPi6yHrPHkwQ",
        "outputId": "08cd7b06-7bac-4361-f0aa-1bd3578a3d91"
      },
      "execution_count": null,
      "outputs": [
        {
          "output_type": "stream",
          "name": "stdout",
          "text": [
            "   jersey  score  seconds\n",
            "0      10      3        5\n",
            "1      10      3        5\n",
            "2      20      2        4\n",
            "3      30      1        3\n",
            "4      40      3        5\n"
          ]
        }
      ]
    },
    {
      "cell_type": "markdown",
      "source": [
        "How to access data frame\n"
      ],
      "metadata": {
        "id": "7WmWOEU5H_zg"
      }
    },
    {
      "cell_type": "code",
      "source": [
        "print(\"Rows #0, #1, and #2:\")\n",
        "print(my_dataframe.head(3), '\\n')\n",
        "\n",
        "print(\"Row #2: is getting printed\")\n",
        "print(my_dataframe.iloc[[2]], '\\n')\n",
        "\n",
        "print(\"Rows #1, #2, and #3:\")\n",
        "print(my_dataframe[1:4], '\\n')\n",
        "\n",
        "print(\"Column 'jersey':\")\n",
        "print(my_dataframe['jersey'])"
      ],
      "metadata": {
        "colab": {
          "base_uri": "https://localhost:8080/"
        },
        "id": "WVrj0IKpICfW",
        "outputId": "bc295547-3c30-464a-c3f0-0fc2e204e8f0"
      },
      "execution_count": null,
      "outputs": [
        {
          "output_type": "stream",
          "name": "stdout",
          "text": [
            "Rows #0, #1, and #2:\n",
            "   jersey  score  seconds\n",
            "0      10      3        5\n",
            "1      10      3        5\n",
            "2      20      2        4 \n",
            "\n",
            "Row #2: is getting printed\n",
            "   jersey  score  seconds\n",
            "2      20      2        4 \n",
            "\n",
            "Rows #1, #2, and #3:\n",
            "   jersey  score  seconds\n",
            "1      10      3        5\n",
            "2      20      2        4\n",
            "3      30      1        3 \n",
            "\n",
            "Column 'jersey':\n",
            "0    10\n",
            "1    10\n",
            "2    20\n",
            "3    30\n",
            "4    40\n",
            "Name: jersey, dtype: int64\n"
          ]
        }
      ]
    }
  ]
}